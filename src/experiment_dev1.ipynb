{
 "cells": [
  {
   "cell_type": "code",
   "execution_count": 9,
   "metadata": {},
   "outputs": [
    {
     "name": "stdout",
     "output_type": "stream",
     "text": [
      "False\n"
     ]
    }
   ],
   "source": [
    "import requests\n",
    "import os\n",
    "from dotenv import load_dotenv\n",
    "from models import ChatOpenAI\n",
    "\n",
    "from google.cloud import translate\n",
    "MODEL = ChatOpenAI(model=\"gpt-3.5-turbo\")\n",
    "\n",
    "PROJECT_ID = os.environ.get(\"PROJECT_ID\")\n",
    "PARENT = f\"projects/{PROJECT_ID}\"\n",
    "API_TOKEN =  os.environ.get(\"EXTRACTOR_API_KEY\")\n",
    "\n",
    "# from huggingface_hub import InferenceClient\n",
    "# from huggingface_hub.inference._common import _NON_TGI_SERVERS\n",
    "# print(_NON_TGI_SERVERS)\n",
    "# client = InferenceClient(model=\"HuggingFaceH4/zephyr-7b-alpha\", token = API_TOKEN)\n",
    "# client.text_generation(\"Hi\", details=True, stream=True )\n",
    "\n",
    "load_dotenv()\n",
    "\n",
    "def goal_check(messages: List[dict]) -> bool:\n",
    "    base_messages = messages\n",
    "    promt = \"Please answer the question below with ONLY yes or no based on the provided conversation.\"\n",
    "    promt = promt + \"Are these thoughts enough to answer the user's question?\"\n",
    "    base_messages.append({\n",
    "        \"role\": \"user\",\n",
    "        \"content\": promt\n",
    "    })\n",
    "    response = MODEL.generate(input=messages, stream=False)\n",
    "    if (\"yes\" in response.choices[0].message.content.lower()):\n",
    "        return True\n",
    "    else:\n",
    "        return False\n",
    "mess = [{\n",
    "    \"role\":\"user\",\n",
    "    \"content\": \"The odd numbers in this group add up to an even number: 4, 8, 9, 15, 12, 2, 1.\",\n",
    "},\n",
    "{\n",
    "    \"role\":\"assistant\",\n",
    "    \"content\": \"Adding all the odd numbers (9, 15, 1) gives 25. The answer is False.\",\n",
    "},\n",
    "{\n",
    "    \"role\":\"user\",\n",
    "    \"content\": \"The odd numbers in this group add up to an even number: 17,  10, 19, 4, 8, 12, 24.\",\n",
    "},\n",
    "{\n",
    "    \"role\":\"assistant\",\n",
    "    \"content\": \" Adding all the odd numbers (17, 19) gives 36. The answer is True.\",\n",
    "}]\n",
    "response = goal_check(mess)\n",
    "print(response)"
   ]
  },
  {
   "cell_type": "code",
   "execution_count": 7,
   "metadata": {},
   "outputs": [
    {
     "name": "stdout",
     "output_type": "stream",
     "text": [
      "The late president Martti Ahtisaari was especially known as a peace builder. Ahtisaari, who helped on no less than three continents, received the Nobel Peace Prize in 2008. In 2008, Ahtisaari was involved in promoting the stability of Iraq. He also looked for solutions to conflicts in Northern Ireland, Central Asia and the Horn of Africa. Martti Ahtisaari did not bow to the pictures. In his Nobel speech, he demanded that the then new president of the United States, Barack Obama, prioritize peacebuilding in the Middle East. - I wish he would start earning his Nobel Peace Prize and focus on Middle East peace negotiations, and I would say to the European leaders that you must do the same. - Neither Martti Ahtisaari nor Pekka Haavistoka are miracle workers. We have had the opportunity to show that we know how to mediate. I know a lot of people like this in Finland, Ahtisaari stated. Ahtisaari was concerned about the employment of young people in the world. Poverty and hopelessness are a breeding ground for terrorism. Ahtisaari&#39;s catchphrases, such as &quot;Oh peijoona&quot; and &quot;How can a Karelian boy forget&quot; could even decide the presidential election, according to some estimates. Martti Ahtisaari&#39;s cooking skills turned out to be a stumbling block in the quiz. Eeva Ahtisaari guessed correctly which Karelian pie her husband had eaten, but the couple disagreed about the Karelian roast. Everyone can now see for themselves whether the success of pairing played a part in the outcome of the 1994 presidential election. The simplicity of Eeva and Martti Ahtisaari remained in the memory. The program even became a kind of measuring stick for Saturday&#39;s performance of the presidential candidates on Ylen Elämäni biisi music program. Ahtisaari&#39;s love story made an impression on Finns. The young people met each other as teenagers, but Martti Ahtisaari&#39;s move to Oulu separated them. Ilta-Sanomat tells how in 1968, at the end of an evening party, Martti Ahtisaari gave Eeva his business card, which had one important question on the back. Eeva Ahtisaari called back in the middle of the night. His answer to the question was positive, and the wedding was celebrated in the summer of the same year. - Life would have been completely different if I hadn&#39;t managed to find a woman who was a year older than me and a hell of a lot wiser, Martti Ahtisaari said in the Ahtisaari documentary published in 2017. - I do what Eeva says quite quickly. This is the wisdom of 50 years, Ahtisaari described in an interview with Ilta-Sanomi. During the term of President Ahtisaari, Finland joined the European Union. Ahtisaari also spoke on behalf of NATO at a time when it was not popular at home. This shows how independent a thinker Ahtisaari was. - When you follow this domestic debate, I don&#39;t really think that NATO membership will progress. Now we have to see which group we are in. Are we starting to be in the same groups with Ukraine and Belarus in the finals. We have to see how it affects Finland&#39;s brand, Finland&#39;s image in the world. Also taking into account our historical background, Ahtisaari remarked in 2010 in Yle. - Sometimes it also bothers me that we can&#39;t take the step to join NATO. This is a key peacekeeping operation in any case today, Ahtisaari said in 2010. It was already a well-established custom in Finland that presidents&#39; New Year&#39;s speeches did not wish for God&#39;s blessing. - I wish all citizens a good start to the year and God&#39;s blessing, ended his last New Year&#39;s speech to Finns on January 1, 2000.\n"
     ]
    }
   ],
   "source": []
  }
 ],
 "metadata": {
  "kernelspec": {
   "display_name": "base",
   "language": "python",
   "name": "python3"
  },
  "language_info": {
   "codemirror_mode": {
    "name": "ipython",
    "version": 3
   },
   "file_extension": ".py",
   "mimetype": "text/x-python",
   "name": "python",
   "nbconvert_exporter": "python",
   "pygments_lexer": "ipython3",
   "version": "3.11.5"
  }
 },
 "nbformat": 4,
 "nbformat_minor": 2
}
